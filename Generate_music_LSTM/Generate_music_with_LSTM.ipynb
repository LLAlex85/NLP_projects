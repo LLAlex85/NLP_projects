{
 "cells": [
  {
   "cell_type": "markdown",
   "metadata": {},
   "source": [
    "# Generate music with an LSTM Network\n",
    "\n",
    "This notebook is based on the programming assignment \"Improvise a Jazz Solo with an LSTM network\" of deeplearning.ai, course Sequence Models, week Recurrent Neural Networks. The figures and the functions data_processing_vmg, load_music_utils_vmg and generate_music_vmg are also taken from that assignment.\n",
    "\n",
    "We will build an LSTM network to generate music.\n",
    "\n",
    "## Learning objectives\n",
    "\n",
    "- Application of Long short-term memory (LSTM) neural network in TensorFlow\n",
    "- Use of Adam optimizer with decaying learning rate\n",
    "- Use of GPU for the training of the model"
   ]
  },
  {
   "cell_type": "code",
   "execution_count": 2,
   "metadata": {},
   "outputs": [
    {
     "name": "stdout",
     "output_type": "stream",
     "text": [
      "1.14.0\n"
     ]
    }
   ],
   "source": [
    "from __future__ import print_function\n",
    "import IPython\n",
    "import sys\n",
    "from music21 import *\n",
    "import numpy as np\n",
    "from grammar import *\n",
    "from qa import *\n",
    "from preprocess import * \n",
    "from music_utils import *\n",
    "from data_utils import *\n",
    "\n",
    "import matplotlib.pyplot as plt\n",
    "import os\n",
    "os.environ[\"CUDA_VISIBLE_DEVICES\"]=\"0\"\n",
    "\n",
    "import tensorflow as tf\n",
    "print(tf.__version__)\n",
    "\n",
    "config = tf.ConfigProto()\n",
    "config.gpu_options.allow_growth=True"
   ]
  },
  {
   "cell_type": "markdown",
   "metadata": {},
   "source": [
    "I modified the function data_processing so that X and Y have the same shape"
   ]
  },
  {
   "cell_type": "code",
   "execution_count": 3,
   "metadata": {},
   "outputs": [],
   "source": [
    "def data_processing_vmg(corpus, values_indices, m = 60, Tx = 30):\n",
    "    # cut the corpus into semi-redundant sequences of Tx values\n",
    "    Tx = Tx \n",
    "    N_values = len(set(corpus))\n",
    "    np.random.seed(0)\n",
    "    X = np.zeros((m, Tx, N_values), dtype=np.bool)\n",
    "    Y = np.zeros((m, Tx, N_values), dtype=np.bool)\n",
    "    for i in range(m):\n",
    "#         for t in range(1, Tx):\n",
    "        random_idx = np.random.choice(len(corpus) - Tx)\n",
    "        corp_data = corpus[random_idx:(random_idx + Tx)]\n",
    "        for j in range(Tx):\n",
    "            idx = values_indices[corp_data[j]]\n",
    "            if j != 0:\n",
    "                X[i, j, idx] = 1\n",
    "                Y[i, j-1, idx] = 1\n",
    "    \n",
    "    #Y = np.swapaxes(Y,0,1) # VMG: I commented this line\n",
    "    #Y = Y.tolist() # VMG: I commented this line\n",
    "    return np.asarray(X), np.asarray(Y), N_values "
   ]
  },
  {
   "cell_type": "code",
   "execution_count": 4,
   "metadata": {},
   "outputs": [],
   "source": [
    "def load_music_utils_vmg():\n",
    "    chords, abstract_grammars = get_musical_data('data/original_metheny.mid')\n",
    "    corpus, tones, tones_indices, indices_tones = get_corpus_data(abstract_grammars)\n",
    "    N_tones = len(set(corpus))\n",
    "    X, Y, N_tones = data_processing_vmg(corpus, tones_indices, 60, 30)   \n",
    "    return (X, Y, N_tones, indices_tones)"
   ]
  },
  {
   "cell_type": "code",
   "execution_count": 5,
   "metadata": {},
   "outputs": [],
   "source": [
    "def generate_music_vmg(checkpoint, num_classes, lstm_size, T_y,corpus = corpus, abstract_grammars = abstract_grammars, tones = tones, tones_indices = tones_indices, indices_tones = indices_tones, max_tries = 1000, diversity = 0.5):\n",
    "    \"\"\"\n",
    "    Generates music using a model trained to learn musical patterns of a jazz soloist. Creates an audio stream\n",
    "    to save the music and play it.\n",
    "    \n",
    "    Arguments:\n",
    "    corpus -- musical corpus, list of 193 tones as strings (ex: 'C,0.333,<P1,d-5>')\n",
    "    abstract_grammars -- list of grammars, on element can be: 'S,0.250,<m2,P-4> C,0.250,<P4,m-2> A,0.250,<P4,m-2>'\n",
    "    tones -- set of unique tones, ex: 'A,0.250,<M2,d-4>' is one element of the set.\n",
    "    tones_indices -- a python dictionary mapping unique tone (ex: A,0.250,< m2,P-4 >) into their corresponding indices (0-77)\n",
    "    indices_tones -- a python dictionary mapping indices (0-77) into their corresponding unique tone (ex: A,0.250,< m2,P-4 >)\n",
    "    Tx -- integer, number of time-steps used at training time\n",
    "    temperature -- scalar value, defines how conservative/creative the model is when generating music\n",
    "    \n",
    "    Returns:\n",
    "    predicted_tones -- python list containing predicted tones\n",
    "    \"\"\"\n",
    "    \n",
    "    # set up audio stream\n",
    "    out_stream = stream.Stream()\n",
    "    \n",
    "    # Initialize chord variables\n",
    "    curr_offset = 0.0                                     # variable used to write sounds to the Stream.\n",
    "    num_chords = int(len(chords) / 3)                     # number of different set of chords\n",
    "    \n",
    "    print(\"Predicting new values for different set of chords.\")\n",
    "    # Loop over all 18 set of chords. At each iteration generate a sequence of tones\n",
    "    # and use the current chords to convert it into actual sounds \n",
    "    for i in range(1, num_chords):\n",
    "        \n",
    "        # Retrieve current chord from stream\n",
    "        curr_chords = stream.Voice()\n",
    "        \n",
    "        # Loop over the chords of the current set of chords\n",
    "        for j in chords[i]:\n",
    "            # Add chord to the current chords with the adequate offset, no need to understand this\n",
    "            curr_chords.insert((j.offset % 4), j)\n",
    "        \n",
    "        # Generate a sequence of tones using the model\n",
    "        indices = predict_and_sample_vmg(checkpoint=checkpoint, num_classes=num_classes, lstm_size=lstm_size, T_y=T_y)\n",
    "        #print(type(indices))\n",
    "        indices = list(indices.squeeze())\n",
    "        pred = [indices_tones[p] for p in indices]\n",
    "        \n",
    "        predicted_tones = 'C,0.25 '\n",
    "        for k in range(len(pred) - 1):\n",
    "            predicted_tones += pred[k] + ' ' \n",
    "        \n",
    "        predicted_tones +=  pred[-1]\n",
    "                \n",
    "        #### POST PROCESSING OF THE PREDICTED TONES ####\n",
    "        # We will consider \"A\" and \"X\" as \"C\" tones. It is a common choice.\n",
    "        predicted_tones = predicted_tones.replace(' A',' C').replace(' X',' C')\n",
    "\n",
    "        # Pruning #1: smoothing measure\n",
    "        predicted_tones = prune_grammar(predicted_tones)\n",
    "        \n",
    "        # Use predicted tones and current chords to generate sounds\n",
    "        sounds = unparse_grammar(predicted_tones, curr_chords)\n",
    "\n",
    "        # Pruning #2: removing repeated and too close together sounds\n",
    "        sounds = prune_notes(sounds)\n",
    "\n",
    "        # Quality assurance: clean up sounds\n",
    "        sounds = clean_up_notes(sounds)\n",
    "\n",
    "        # Print number of tones/notes in sounds\n",
    "        print('Generated %s sounds using the predicted values for the set of chords (\"%s\") and after pruning' % (len([k for k in sounds if isinstance(k, note.Note)]), i))\n",
    "        \n",
    "        # Insert sounds into the output stream\n",
    "        for m in sounds:\n",
    "            out_stream.insert(curr_offset + m.offset, m)\n",
    "        for mc in curr_chords:\n",
    "            out_stream.insert(curr_offset + mc.offset, mc)\n",
    "\n",
    "        curr_offset += 4.0\n",
    "        \n",
    "    # Initialize tempo of the output stream with 130 bit per minute\n",
    "    out_stream.insert(0.0, tempo.MetronomeMark(number=130))\n",
    "\n",
    "    # Save audio stream to fine\n",
    "    mf = midi.translate.streamToMidiFile(out_stream)\n",
    "    mf.open(\"output/my_music_vmg.midi\", 'wb')\n",
    "    mf.write()\n",
    "    print(\"Your generated music is saved in output/my_music.midi\")\n",
    "    mf.close()\n",
    "    \n",
    "    # Play the final stream through output (see 'play' lambda function above)\n",
    "    # play = lambda x: midi.realtime.StreamPlayer(x).play()\n",
    "    # play(out_stream)\n",
    "    \n",
    "    return out_stream"
   ]
  },
  {
   "cell_type": "code",
   "execution_count": 6,
   "metadata": {},
   "outputs": [
    {
     "name": "stdout",
     "output_type": "stream",
     "text": [
      "shape of X: (60, 30, 78)\n",
      "number of training examples: 60\n",
      "Tx (length of sequence): 30\n",
      "total # of unique values: 78\n",
      "Shape of Y: (60, 30, 78)\n"
     ]
    }
   ],
   "source": [
    "X, Y, n_values, indices_values = load_music_utils_vmg()\n",
    "print('shape of X:', X.shape)\n",
    "print('number of training examples:', X.shape[0])\n",
    "print('Tx (length of sequence):', X.shape[1])\n",
    "print('total # of unique values:', n_values)\n",
    "print('Shape of Y:', Y.shape)"
   ]
  },
  {
   "cell_type": "markdown",
   "metadata": {},
   "source": [
    "- `X`: This is an (m, $T_x$, 78) dimensional array. We have m training examples, each of which is a snippet of $T_x =30$ musical values. At each time step, the input is one of 78 different possible values, represented as a one-hot vector. \n",
    "\n",
    "- `Y`: This is essentially the same as `X`, but shifted one step to the left (to the past). We're interested in the network using the previous values to predict the next value, so our sequence model will try to predict $y^{\\langle t \\rangle}$ given $x^{\\langle 1\\rangle}, \\ldots, x^{\\langle t \\rangle}$. \n",
    "\n",
    "- `n_values`: The number of unique values in this dataset. This should be 78. \n",
    "\n",
    "- `indices_values`: python dictionary mapping from 0-77 to musical values."
   ]
  },
  {
   "cell_type": "code",
   "execution_count": 7,
   "metadata": {},
   "outputs": [
    {
     "data": {
      "text/plain": [
       "{0: 'X,0.250,<m6,M2>',\n",
       " 1: 'S,0.250,<M-2,m-6>',\n",
       " 2: 'C,0.250,<P5,A1>',\n",
       " 3: 'C,0.250,<d5,P1>',\n",
       " 4: 'S,0.250,<P5,A1>',\n",
       " 5: 'S,0.500,<d1,P-5>',\n",
       " 6: 'A,0.250,<M3,d-3>',\n",
       " 7: 'S,0.250,<dd5,d1>',\n",
       " 8: 'S,0.250,<m3,m-3>',\n",
       " 9: 'C,0.250,<m7,M3>',\n",
       " 10: 'C,0.333,<P1,d-5>',\n",
       " 11: 'C,0.500,<m2,P-4>',\n",
       " 12: 'S,0.750,<d5,P1>',\n",
       " 13: 'S,0.750,<m3,m-3>',\n",
       " 14: 'C,0.500,<P4,m-2>',\n",
       " 15: 'S,0.333,<d7,m3>',\n",
       " 16: 'C,0.250,<m3,m-3>',\n",
       " 17: 'S,0.500,<m7,M3>',\n",
       " 18: 'C,0.250,<P4,m-2>',\n",
       " 19: 'A,0.250,<P-4,d-8>',\n",
       " 20: 'A,0.250,<d4,M-2>',\n",
       " 21: 'C,0.333,<m7,M3>',\n",
       " 22: 'S,0.333,<d1,P-5>',\n",
       " 23: 'C,0.250,<P-4,d-8>',\n",
       " 24: 'C,0.333,<m2,P-4>',\n",
       " 25: 'C,0.250,<M-2,m-6>',\n",
       " 26: 'S,0.250,<P1,d-5>',\n",
       " 27: 'A,0.333,<P1,d-5>',\n",
       " 28: 'S,0.250,<d5,P1>',\n",
       " 29: 'S,0.250,<m2,P-4>',\n",
       " 30: 'C,0.250,<dd5,d1>',\n",
       " 31: 'C,0.250,<d3,M-3>',\n",
       " 32: 'C,0.250,<d4,M-2>',\n",
       " 33: 'S,0.333',\n",
       " 34: 'A,0.250,<M2,d-4>',\n",
       " 35: 'X,0.250,<d1,P-5>',\n",
       " 36: 'C,0.250,<m2,P-4>',\n",
       " 37: 'C,0.333,<P5,A1>',\n",
       " 38: 'A,0.250,<P1,d-5>',\n",
       " 39: 'S,0.667,<m3,m-3>',\n",
       " 40: 'C,0.250,<M3,d-3>',\n",
       " 41: 'C,0.250,<A-4,P-8>',\n",
       " 42: 'S,0.250,<P4,m-2>',\n",
       " 43: 'C,0.250,<d2,A-4>',\n",
       " 44: 'C,0.250,<d1,P-5>',\n",
       " 45: 'C,0.250,<A4,d-2>',\n",
       " 46: 'A,0.250,<m2,P-4>',\n",
       " 47: 'C,0.500,<m6,M2>',\n",
       " 48: 'C,0.500',\n",
       " 49: 'S,0.333,<m2,P-4>',\n",
       " 50: 'A,0.250,<P4,m-2>',\n",
       " 51: 'C,0.333,<M2,d-4>',\n",
       " 52: 'S,0.250,<d2,A-4>',\n",
       " 53: 'C,0.250',\n",
       " 54: 'S,0.250,<d6,m2>',\n",
       " 55: 'C,0.750,<m3,m-3>',\n",
       " 56: 'X,0.250,<A4,d-2>',\n",
       " 57: 'C,0.250,<P1,d-5>',\n",
       " 58: 'C,0.250,<P11,M7>',\n",
       " 59: 'C,0.667,<M2,d-4>',\n",
       " 60: 'C,0.333,<A4,d-2>',\n",
       " 61: 'S,0.250',\n",
       " 62: 'C,0.250,<m-2,d-6>',\n",
       " 63: 'A,0.250,<d5,P1>',\n",
       " 64: 'C,0.667,<d6,m2>',\n",
       " 65: 'A,0.333,<A4,d-2>',\n",
       " 66: 'C,0.333,<m3,m-3>',\n",
       " 67: 'A,0.333,<M2,d-4>',\n",
       " 68: 'S,0.250,<A4,d-2>',\n",
       " 69: 'X,0.250,<M-2,m-6>',\n",
       " 70: 'S,0.250,<d1,P-5>',\n",
       " 71: 'S,0.250,<d4,M-2>',\n",
       " 72: 'C,0.333,<d1,P-5>',\n",
       " 73: 'C,0.250,<M2,d-4>',\n",
       " 74: 'S,0.667,<d5,P1>',\n",
       " 75: 'X,0.250,<d2,A-4>',\n",
       " 76: 'C,0.250,<d6,m2>',\n",
       " 77: 'A,0.250,<m-2,d-6>'}"
      ]
     },
     "execution_count": 7,
     "metadata": {},
     "output_type": "execute_result"
    }
   ],
   "source": [
    "indices_values"
   ]
  },
  {
   "cell_type": "code",
   "execution_count": 8,
   "metadata": {},
   "outputs": [
    {
     "data": {
      "text/plain": [
       "array([False, False, False, False, False, False, False, False, False,\n",
       "       False, False, False, False, False, False, False, False, False,\n",
       "       False, False, False, False, False, False, False, False, False,\n",
       "       False, False, False, False, False, False, False, False, False,\n",
       "       False, False, False, False,  True, False, False, False, False,\n",
       "       False, False, False, False, False, False, False, False, False,\n",
       "       False, False, False, False, False, False, False, False, False,\n",
       "       False, False, False, False, False, False, False, False, False,\n",
       "       False, False, False, False, False, False])"
      ]
     },
     "execution_count": 8,
     "metadata": {},
     "output_type": "execute_result"
    }
   ],
   "source": [
    "X[0,1,:]"
   ]
  },
  {
   "cell_type": "code",
   "execution_count": 9,
   "metadata": {},
   "outputs": [
    {
     "data": {
      "text/plain": [
       "array([False, False, False, False, False, False, False, False, False,\n",
       "       False, False, False, False, False, False, False, False, False,\n",
       "       False, False, False, False, False, False, False, False, False,\n",
       "       False, False, False, False, False, False, False, False, False,\n",
       "       False, False, False, False,  True, False, False, False, False,\n",
       "       False, False, False, False, False, False, False, False, False,\n",
       "       False, False, False, False, False, False, False, False, False,\n",
       "       False, False, False, False, False, False, False, False, False,\n",
       "       False, False, False, False, False, False])"
      ]
     },
     "execution_count": 9,
     "metadata": {},
     "output_type": "execute_result"
    }
   ],
   "source": [
    "Y[0,0,:]"
   ]
  },
  {
   "cell_type": "markdown",
   "metadata": {},
   "source": [
    "## Network architecture\n",
    "\n",
    "<img src=\"images/music_generation.png\" style=\"width:600;height:400px;\">\n",
    "\n",
    "<!--\n",
    "<img src=\"images/djmodel.png\" style=\"width:600;height:400px;\">\n",
    "<br>\n",
    "<caption><center> **Figure 1**: LSTM model. $X = (x^{\\langle 1 \\rangle}, x^{\\langle 2 \\rangle}, ..., x^{\\langle T_x \\rangle})$ is a window of size $T_x$ scanned over the musical corpus. Each $x^{\\langle t \\rangle}$ is an index corresponding to a value (ex: \"A,0.250,< m2,P-4 >\") while $\\hat{y}$ is the prediction for the next value  </center></caption>\n",
    "!--> \n",
    "\n",
    "We will be training the model on random snippets of 30 values taken from a much longer piece of music. Thus, we won't bother to set the first input $x^{\\langle 1 \\rangle} = \\vec{0}$, which we had done in a previous project to denote the start of a name, since now most of these snippets of audio start somewhere in the middle of a piece of music. We are setting each of the snippets to have the same length $T_x = 30$ to make vectorization easier. "
   ]
  },
  {
   "cell_type": "code",
   "execution_count": 10,
   "metadata": {},
   "outputs": [],
   "source": [
    "def get_batches(x, y, batch_size):\n",
    "    n_batches = len(x)//batch_size\n",
    "    x, y = x[:n_batches*batch_size], y[:n_batches*batch_size]\n",
    "    for ii in range(0, len(x), batch_size):\n",
    "        yield x[ii:ii+batch_size], y[ii:ii+batch_size]"
   ]
  },
  {
   "cell_type": "code",
   "execution_count": 11,
   "metadata": {},
   "outputs": [],
   "source": [
    "def build_inputs(batch_size, num_steps, num_classes):\n",
    "    \n",
    "    inputs = tf.placeholder(tf.float32,[batch_size,num_steps,num_classes],name='inputs')\n",
    "    targets = tf.placeholder(tf.float32,[batch_size,num_steps,num_classes], name='targets')\n",
    "    \n",
    "    return inputs, targets"
   ]
  },
  {
   "cell_type": "code",
   "execution_count": 12,
   "metadata": {},
   "outputs": [],
   "source": [
    "def build_lstm(lstm_size, lstm_layers, batch_size):\n",
    "    \n",
    "    # Your basic LSTM cell\n",
    "    lstm = tf.contrib.rnn.BasicLSTMCell(lstm_size) \n",
    "    \n",
    "    # Stack up multiple LSTM layers, for deep learning\n",
    "    cell = tf.contrib.rnn.MultiRNNCell([lstm for _ in range(lstm_layers)])\n",
    "    \n",
    "    # Getting an initial state of all zeros\n",
    "    initial_state = cell.zero_state(batch_size, tf.float32)\n",
    "    \n",
    "    return cell, initial_state"
   ]
  },
  {
   "cell_type": "code",
   "execution_count": 13,
   "metadata": {},
   "outputs": [],
   "source": [
    "def build_output(lstm_output, in_size, out_size):\n",
    "\n",
    "    # Reshape output so it's a bunch of rows, one row for each step for each sequence.\n",
    "    # Concatenate lstm_output over axis 1 (the columns)\n",
    "    seq_output = tf.concat(lstm_output,axis=1)\n",
    "    # Reshape seq_output to a 2D tensor with lstm_size columns\n",
    "    x = tf.reshape(seq_output,[-1,in_size])\n",
    "    \n",
    "    # Connect the LSTM outputs to a softmax layer\n",
    "    with tf.variable_scope('softmax'):\n",
    "        # Create the weight and bias variables here\n",
    "        softmax_w = tf.Variable(tf.truncated_normal([in_size, out_size]))\n",
    "        softmax_b = tf.Variable(tf.zeros(out_size))\n",
    "    \n",
    "    # Since output is a bunch of rows of LSTM cell outputs, logits will be a bunch\n",
    "    # of rows of logit outputs, one for each step and sequence\n",
    "    logits = tf.add(tf.matmul(x,softmax_w),softmax_b)\n",
    "    \n",
    "    # Use softmax to get the probabilities for predicted characters\n",
    "    out = tf.nn.softmax(logits)\n",
    "    \n",
    "    return out, logits"
   ]
  },
  {
   "cell_type": "code",
   "execution_count": 14,
   "metadata": {},
   "outputs": [],
   "source": [
    "def build_loss(logits, targets, lstm_size, num_classes):\n",
    "    \n",
    "    targets_reshaped = tf.reshape(targets,[-1,num_classes]) \n",
    "        \n",
    "    # Softmax cross entropy loss\n",
    "    loss = tf.reduce_mean(tf.nn.softmax_cross_entropy_with_logits(logits=logits, labels=targets_reshaped))\n",
    "       \n",
    "    return loss"
   ]
  },
  {
   "cell_type": "markdown",
   "metadata": {},
   "source": [
    "We will use Adam optimizer with decaying learning rate. Using tf.train.inverse_time_decay the learning rate is \n",
    "\n",
    "decayed_learning_rate = learning_rate / (1 + decay_rate * global_step /decay_step)\n",
    "\n",
    "The step variable global_step is updated for each mini-batch, not just for each epoch. However, in this case since each batch has size equal to the whole dataset, the global_step has the same value with the epoch value"
   ]
  },
  {
   "cell_type": "code",
   "execution_count": 15,
   "metadata": {},
   "outputs": [],
   "source": [
    "def build_optimizer(loss, learning_rate, decay_rate):\n",
    "    \n",
    "    global_step = tf.Variable(0, trainable=False)\n",
    "    decay_steps = 1.0\n",
    "    learning_rate = tf.train.inverse_time_decay(learning_rate, global_step, decay_steps, decay_rate)\n",
    "    optimizer = tf.train.AdamOptimizer(learning_rate).minimize(loss, global_step)\n",
    "    \n",
    "    return optimizer"
   ]
  },
  {
   "cell_type": "code",
   "execution_count": 16,
   "metadata": {},
   "outputs": [],
   "source": [
    "class djmodel:\n",
    "    \n",
    "    def __init__(self, num_classes=78, batch_size=60, num_steps=30, \n",
    "                       lstm_size=64, lstm_layers=1, learning_rate=0.01, sampling=False):\n",
    "    \n",
    "        # When we're using this network for sampling later, we'll be passing in\n",
    "        # one character at a time, so providing an option for that\n",
    "        if sampling == True:\n",
    "            batch_size, num_steps = 1, 1\n",
    "        else:\n",
    "            batch_size, num_steps = batch_size, num_steps\n",
    "\n",
    "        tf.reset_default_graph()\n",
    "        \n",
    "        # Build the input placeholder tensors\n",
    "        self.inputs, self.targets = build_inputs(batch_size, num_steps, num_classes)\n",
    "\n",
    "        # Build the LSTM cell\n",
    "        cell, self.initial_state = build_lstm(lstm_size, lstm_layers, batch_size)\n",
    "            \n",
    "        ### Run the data through the RNN layers\n",
    "        # self.inputs are already one-hot\n",
    "        \n",
    "        # Run each sequence step through the RNN with tf.nn.dynamic_rnn \n",
    "        outputs, state = tf.nn.dynamic_rnn(cell, self.inputs, initial_state=self.initial_state)\n",
    "        \n",
    "        self.final_state = state\n",
    "\n",
    "        # Get softmax predictions and logits\n",
    "        self.prediction, self.logits = build_output(outputs, lstm_size, num_classes)\n",
    "        \n",
    "        \n",
    "        # Loss and optimizer (with gradient clipping)\n",
    "        self.loss =  build_loss(self.logits, self.targets, lstm_size, num_classes)\n",
    "        self.optimizer = build_optimizer(self.loss, learning_rate, decay_rate)"
   ]
  },
  {
   "cell_type": "code",
   "execution_count": 17,
   "metadata": {},
   "outputs": [],
   "source": [
    "batch_size = X.shape[0]       # Sequences per batch\n",
    "num_steps = X.shape[1]          # Number of sequence steps per batch\n",
    "lstm_size = 64         # Size of hidden layers in LSTMs\n",
    "lstm_layers = 1          # Number of LSTM layers\n",
    "num_classes=X.shape[2]\n",
    "learning_rate = 0.01    # Learning rate\n",
    "decay_rate=0.01"
   ]
  },
  {
   "cell_type": "code",
   "execution_count": 18,
   "metadata": {},
   "outputs": [
    {
     "name": "stderr",
     "output_type": "stream",
     "text": [
      "WARNING: Logging before flag parsing goes to stderr.\n",
      "W0815 14:02:54.175750  1296 lazy_loader.py:50] \n",
      "The TensorFlow contrib module will not be included in TensorFlow 2.0.\n",
      "For more information, please see:\n",
      "  * https://github.com/tensorflow/community/blob/master/rfcs/20180907-contrib-sunset.md\n",
      "  * https://github.com/tensorflow/addons\n",
      "  * https://github.com/tensorflow/io (for I/O related ops)\n",
      "If you depend on functionality not listed there, please file an issue.\n",
      "\n",
      "W0815 14:02:54.176748  1296 deprecation.py:323] From <ipython-input-12-21b64da84c03>:4: BasicLSTMCell.__init__ (from tensorflow.python.ops.rnn_cell_impl) is deprecated and will be removed in a future version.\n",
      "Instructions for updating:\n",
      "This class is equivalent as tf.keras.layers.LSTMCell, and will be replaced by that in Tensorflow 2.0.\n",
      "W0815 14:02:54.177745  1296 deprecation.py:323] From <ipython-input-12-21b64da84c03>:7: MultiRNNCell.__init__ (from tensorflow.python.ops.rnn_cell_impl) is deprecated and will be removed in a future version.\n",
      "Instructions for updating:\n",
      "This class is equivalent as tf.keras.layers.StackedRNNCells, and will be replaced by that in Tensorflow 2.0.\n",
      "W0815 14:02:54.188717  1296 deprecation.py:323] From <ipython-input-16-73b731c3d271>:25: dynamic_rnn (from tensorflow.python.ops.rnn) is deprecated and will be removed in a future version.\n",
      "Instructions for updating:\n",
      "Please use `keras.layers.RNN(cell)`, which is equivalent to this API\n",
      "W0815 14:02:54.432065  1296 deprecation.py:506] From C:\\Users\\vgkortsas\\AppData\\Local\\Continuum\\anaconda3\\envs\\TF_practice\\lib\\site-packages\\tensorflow\\python\\ops\\init_ops.py:1251: calling VarianceScaling.__init__ (from tensorflow.python.ops.init_ops) with dtype is deprecated and will be removed in a future version.\n",
      "Instructions for updating:\n",
      "Call initializer instance with the dtype argument instead of passing it to the constructor\n",
      "W0815 14:02:54.439046  1296 deprecation.py:506] From C:\\Users\\vgkortsas\\AppData\\Local\\Continuum\\anaconda3\\envs\\TF_practice\\lib\\site-packages\\tensorflow\\python\\ops\\rnn_cell_impl.py:738: calling Zeros.__init__ (from tensorflow.python.ops.init_ops) with dtype is deprecated and will be removed in a future version.\n",
      "Instructions for updating:\n",
      "Call initializer instance with the dtype argument instead of passing it to the constructor\n",
      "W0815 14:02:54.718465  1296 deprecation.py:323] From <ipython-input-14-448884070171>:6: softmax_cross_entropy_with_logits (from tensorflow.python.ops.nn_ops) is deprecated and will be removed in a future version.\n",
      "Instructions for updating:\n",
      "\n",
      "Future major versions of TensorFlow will allow gradients to flow\n",
      "into the labels input on backprop by default.\n",
      "\n",
      "See `tf.nn.softmax_cross_entropy_with_logits_v2`.\n",
      "\n",
      "W0815 14:02:54.741370  1296 deprecation.py:323] From C:\\Users\\vgkortsas\\AppData\\Local\\Continuum\\anaconda3\\envs\\TF_practice\\lib\\site-packages\\tensorflow\\python\\keras\\optimizer_v2\\learning_rate_schedule.py:520: div (from tensorflow.python.ops.math_ops) is deprecated and will be removed in a future version.\n",
      "Instructions for updating:\n",
      "Deprecated in favor of operator or tf.math.divide.\n"
     ]
    },
    {
     "name": "stdout",
     "output_type": "stream",
     "text": [
      "Epoch: 10/200 Train loss: 2.740\n",
      "Epoch: 20/200 Train loss: 1.482\n",
      "Epoch: 30/200 Train loss: 0.740\n",
      "Epoch: 40/200 Train loss: 0.447\n",
      "Epoch: 50/200 Train loss: 0.345\n",
      "Epoch: 60/200 Train loss: 0.324\n",
      "Epoch: 70/200 Train loss: 0.286\n",
      "Epoch: 80/200 Train loss: 0.271\n",
      "Epoch: 90/200 Train loss: 0.268\n",
      "Epoch: 100/200 Train loss: 0.239\n",
      "Epoch: 110/200 Train loss: 0.237\n",
      "Epoch: 120/200 Train loss: 0.222\n",
      "Epoch: 130/200 Train loss: 0.253\n",
      "Epoch: 140/200 Train loss: 0.215\n",
      "Epoch: 150/200 Train loss: 0.248\n",
      "Epoch: 160/200 Train loss: 0.225\n",
      "Epoch: 170/200 Train loss: 0.206\n",
      "Epoch: 180/200 Train loss: 0.213\n",
      "Epoch: 190/200 Train loss: 0.215\n",
      "Epoch: 200/200 Train loss: 0.201\n"
     ]
    }
   ],
   "source": [
    "epochs = 200\n",
    "\n",
    "model = djmodel(num_classes=num_classes, batch_size=batch_size, num_steps=num_steps, \n",
    "                lstm_size=lstm_size, lstm_layers=lstm_layers, learning_rate=learning_rate)\n",
    "\n",
    "\n",
    "saver = tf.train.Saver() \n",
    "\n",
    "loss_vec = []\n",
    "with tf.Session(config=config) as sess:\n",
    "    sess.run(tf.global_variables_initializer())\n",
    "           \n",
    "    iteration = 1\n",
    "    \n",
    "    for e in range(epochs):\n",
    "        state = sess.run(model.initial_state) \n",
    "        \n",
    "        for ii, (x, y) in enumerate(get_batches(X, Y, batch_size), 1):\n",
    "            feed = {model.inputs: x,\n",
    "                    model.targets: y,\n",
    "                    model.initial_state: state}\n",
    "            batch_loss, state,_= sess.run([model.loss, model.final_state,model.optimizer],\n",
    "                                         feed_dict=feed)\n",
    "            loss_vec.append(batch_loss)\n",
    "            if iteration%10==0:\n",
    "                print(\"Epoch: {}/{}\".format(e+1, epochs),\n",
    "                      \"Train loss: {:.3f}\".format(batch_loss))\n",
    "            \n",
    "            iteration +=1\n",
    "    \n",
    "    saver.save(sess, \"checkpoints/i{}.ckpt\".format(iteration))"
   ]
  },
  {
   "cell_type": "code",
   "execution_count": 22,
   "metadata": {},
   "outputs": [
    {
     "name": "stdout",
     "output_type": "stream",
     "text": [
      "Trainable variables\n",
      "Variable:  rnn/multi_rnn_cell/cell_0/basic_lstm_cell/kernel:0\n",
      "Shape:  (142, 256)\n",
      "Variable:  rnn/multi_rnn_cell/cell_0/basic_lstm_cell/bias:0\n",
      "Shape:  (256,)\n",
      "Variable:  softmax/Variable:0\n",
      "Shape:  (64, 78)\n",
      "Variable:  softmax/Variable_1:0\n",
      "Shape:  (78,)\n"
     ]
    }
   ],
   "source": [
    "model = djmodel(num_classes=num_classes, batch_size=batch_size, num_steps=num_steps, \n",
    "                lstm_size=lstm_size, lstm_layers=lstm_layers, learning_rate=learning_rate)\n",
    "\n",
    "with tf.Session(config=config) as sess:\n",
    "    sess.run(tf.global_variables_initializer())\n",
    "    print('Trainable variables')\n",
    "    variables_names = [v.name for v in tf.trainable_variables()] #vmg\n",
    "    values = sess.run(variables_names)#vmg\n",
    "    for k, v in zip(variables_names, values):#Vmg\n",
    "        print(\"Variable: \", k)#vmg\n",
    "        print(\"Shape: \", v.shape)"
   ]
  },
  {
   "cell_type": "markdown",
   "metadata": {},
   "source": [
    "## Plot training loss"
   ]
  },
  {
   "cell_type": "code",
   "execution_count": 23,
   "metadata": {},
   "outputs": [
    {
     "data": {
      "image/png": "[encoded data removed]",
      "text/plain": [
       "<Figure size 504x288 with 1 Axes>"
      ]
     },
     "metadata": {
      "image/png": {
       "height": 263,
       "width": 443
      }
     },
     "output_type": "display_data"
    }
   ],
   "source": [
    "plt.figure(figsize=(7,4))\n",
    "plt.plot(np.arange(1,iteration), loss_vec)\n",
    "plt.ylabel('losses')\n",
    "plt.xlabel('epochs')\n",
    "plt.show()"
   ]
  },
  {
   "cell_type": "markdown",
   "metadata": {},
   "source": [
    "## Generating music\n",
    "\n",
    "We now have a trained model which has learned the patterns of a song. Let's now use this model to synthesize new music. \n",
    "\n",
    "<img src=\"images/music_gen.png\" style=\"width:600;height:400px;\">\n",
    "\n",
    "To start off the model, we will initialize `x0` as well as the LSTM hidden and cell states (both in model.initial_state) to be zeros. "
   ]
  },
  {
   "cell_type": "code",
   "execution_count": 24,
   "metadata": {},
   "outputs": [],
   "source": [
    "def predict_and_sample_vmg(checkpoint, num_classes, lstm_size, T_y):\n",
    "\n",
    "    samples = []\n",
    "    model = djmodel(num_classes=num_classes, lstm_size=lstm_size, sampling=True)\n",
    "    saver = tf.train.Saver()\n",
    "\n",
    "    with tf.Session(config=config) as sess:\n",
    "        saver.restore(sess, checkpoint)\n",
    "        new_state = sess.run(model.initial_state) \n",
    "        x0=np.zeros((1, 1, num_classes), dtype=np.bool)\n",
    "        x=x0\n",
    "    \n",
    "        for t in range(T_y):\n",
    "            feed = {model.inputs: x,\n",
    "                model.initial_state: new_state}\n",
    "            preds, new_state = sess.run([model.prediction, model.final_state], \n",
    "                                         feed_dict=feed)\n",
    "      \n",
    "            samples.append(preds)\n",
    "            \n",
    "            x=np.zeros((1, 1, num_classes), dtype=np.bool)\n",
    "            x[:, :, np.argmax(preds)] = 1\n",
    "            # Rather than sampling a value at random according to the probabilities in `preds`, \n",
    "            # this line of code actually chooses the single most likely note at each step using an argmax\n",
    "    \n",
    "    # numpy-array of shape (Ty, 1), matrix of indices representing the values generated\n",
    "    indices=np.argmax(samples,axis=2)\n",
    "    return indices"
   ]
  },
  {
   "cell_type": "markdown",
   "metadata": {},
   "source": [
    "We will generate music now. Our LSTM network generates a sequence of values. The following code generates music by first calling the `predict_and_sample_vmg()` function. These values are then post-processed into musical chords (meaning that multiple values or notes can be played at the same time). "
   ]
  },
  {
   "cell_type": "code",
   "execution_count": 25,
   "metadata": {},
   "outputs": [
    {
     "name": "stdout",
     "output_type": "stream",
     "text": [
      "Predicting new values for different set of chords.\n"
     ]
    },
    {
     "name": "stderr",
     "output_type": "stream",
     "text": [
      "W0815 14:05:01.816820  1296 deprecation.py:323] From C:\\Users\\vgkortsas\\AppData\\Local\\Continuum\\anaconda3\\envs\\TF_practice\\lib\\site-packages\\tensorflow\\python\\training\\saver.py:1276: checkpoint_exists (from tensorflow.python.training.checkpoint_management) is deprecated and will be removed in a future version.\n",
      "Instructions for updating:\n",
      "Use standard file APIs to check for files with this prefix.\n"
     ]
    },
    {
     "name": "stdout",
     "output_type": "stream",
     "text": [
      "Generated 50 sounds using the predicted values for the set of chords (\"1\") and after pruning\n",
      "Generated 51 sounds using the predicted values for the set of chords (\"2\") and after pruning\n",
      "Generated 51 sounds using the predicted values for the set of chords (\"3\") and after pruning\n",
      "Generated 51 sounds using the predicted values for the set of chords (\"4\") and after pruning\n",
      "Generated 51 sounds using the predicted values for the set of chords (\"5\") and after pruning\n",
      "Your generated music is saved in output/my_music.midi\n"
     ]
    }
   ],
   "source": [
    "checkpoint = tf.train.latest_checkpoint('checkpoints')\n",
    "out_stream = generate_music_vmg(checkpoint=checkpoint, num_classes=num_classes, lstm_size=lstm_size, T_y=50)"
   ]
  },
  {
   "cell_type": "code",
   "execution_count": null,
   "metadata": {},
   "outputs": [],
   "source": []
  }
 ],
 "metadata": {
  "coursera": {
   "course_slug": "nlp-sequence-models",
   "graded_item_id": "EG0F7",
   "launcher_item_id": "cxJXc"
  },
  "kernelspec": {
   "display_name": "Python 3",
   "language": "python",
   "name": "python3"
  },
  "language_info": {
   "codemirror_mode": {
    "name": "ipython",
    "version": 3
   },
   "file_extension": ".py",
   "mimetype": "text/x-python",
   "name": "python",
   "nbconvert_exporter": "python",
   "pygments_lexer": "ipython3",
   "version": "3.5.5"
  }
 },
 "nbformat": 4,
 "nbformat_minor": 2
}
