{
 "cells": [
  {
   "cell_type": "markdown",
   "metadata": {
    "deletable": true,
    "editable": true
   },
   "source": [
    "# Word embeddings with LSTM \n",
    "\n",
    "This notebook is based on the programming assignment \"Emojify!\" of deeplearning.ai, course Sequence Models, week Natural Language Processing & Word Emeddings. The figures are also taken from that assignment.\n",
    "\n",
    "We are going to build an Emojifier using word embeddings. We will implement an LSTM model which inputs a sentence in the form of word embeddings and finds the most appropriate emoji to be used with this sentence. \n",
    "\n",
    "## Learning objectives\n",
    "\n",
    "- Application of long short-term memory (LSTM) neural network in TensorFlow\n",
    "- Use of embeddings\n",
    "- Build a pretrained embedding layer\n"
   ]
  },
  {
   "cell_type": "code",
   "execution_count": 2,
   "metadata": {
    "collapsed": false,
    "deletable": true,
    "editable": true
   },
   "outputs": [
    {
     "name": "stdout",
     "output_type": "stream",
     "text": [
      "1.0.0\n"
     ]
    }
   ],
   "source": [
    "import numpy as np\n",
    "from emo_utils import *\n",
    "import emoji\n",
    "import matplotlib.pyplot as plt\n",
    "\n",
    "%matplotlib inline\n",
    "\n",
    "import matplotlib.pyplot as plt\n",
    "\n",
    "import tensorflow as tf\n",
    "print(tf.__version__)\n"
   ]
  },
  {
   "cell_type": "markdown",
   "metadata": {
    "deletable": true,
    "editable": true
   },
   "source": [
    "##  Introduction\n",
    "\n",
    "We have a tiny dataset (X, Y) where:\n",
    "- X contains 127 sentences (strings)\n",
    "- Y contains an integer label between 0 and 4 corresponding to an emoji for each sentence\n",
    "\n",
    "<img src=\"images/data_set.png\" style=\"width:700px;height:300px;\">\n",
    "<caption><center> EMOJISET: a classification problem with 5 classes. A few examples of sentences are given here. </center></caption>"
   ]
  },
  {
   "cell_type": "markdown",
   "metadata": {
    "deletable": true,
    "editable": true
   },
   "source": [
    "## Network architecture\n",
    "\n",
    "Here is the Emojifier we will implement:\n",
    "\n",
    "<img src=\"images/emojifier-v2.png\" style=\"width:700px;height:400px;\"> <br>\n",
    "<caption><center> Emojifier: A 2-layer LSTM sequence classifier. </center></caption>\n",
    "\n"
   ]
  },
  {
   "cell_type": "code",
   "execution_count": 3,
   "metadata": {
    "collapsed": true,
    "deletable": true,
    "editable": true
   },
   "outputs": [],
   "source": [
    "X_train, Y_train = read_csv('data/train_emoji.csv')\n",
    "X_test, Y_test = read_csv('data/tesss.csv')"
   ]
  },
  {
   "cell_type": "code",
   "execution_count": 4,
   "metadata": {
    "collapsed": false,
    "deletable": true,
    "editable": true
   },
   "outputs": [
    {
     "data": {
      "text/plain": [
       "'never talk to me again'"
      ]
     },
     "execution_count": 4,
     "metadata": {},
     "output_type": "execute_result"
    }
   ],
   "source": [
    "X_train[0]"
   ]
  },
  {
   "cell_type": "code",
   "execution_count": 5,
   "metadata": {
    "collapsed": false,
    "deletable": true,
    "editable": true
   },
   "outputs": [
    {
     "data": {
      "text/plain": [
       "3"
      ]
     },
     "execution_count": 5,
     "metadata": {},
     "output_type": "execute_result"
    }
   ],
   "source": [
    "Y_train[0]"
   ]
  },
  {
   "cell_type": "code",
   "execution_count": 6,
   "metadata": {
    "collapsed": false,
    "deletable": true,
    "editable": true
   },
   "outputs": [
    {
     "data": {
      "text/plain": [
       "'I am so impressed by your dedication to this project'"
      ]
     },
     "execution_count": 6,
     "metadata": {},
     "output_type": "execute_result"
    }
   ],
   "source": [
    "max(X_train, key=len)"
   ]
  },
  {
   "cell_type": "code",
   "execution_count": 7,
   "metadata": {
    "collapsed": false,
    "deletable": true,
    "editable": true
   },
   "outputs": [
    {
     "data": {
      "text/plain": [
       "['I',\n",
       " 'am',\n",
       " 'so',\n",
       " 'impressed',\n",
       " 'by',\n",
       " 'your',\n",
       " 'dedication',\n",
       " 'to',\n",
       " 'this',\n",
       " 'project']"
      ]
     },
     "execution_count": 7,
     "metadata": {},
     "output_type": "execute_result"
    }
   ],
   "source": [
    "max(X_train, key=len).split()"
   ]
  },
  {
   "cell_type": "code",
   "execution_count": 8,
   "metadata": {
    "collapsed": true,
    "deletable": true,
    "editable": true
   },
   "outputs": [],
   "source": [
    "maxLen = len(max(X_train, key=len).split()) #VMG: find the number of words in the sentence with maximum length"
   ]
  },
  {
   "cell_type": "code",
   "execution_count": 9,
   "metadata": {
    "collapsed": false,
    "deletable": true,
    "editable": true
   },
   "outputs": [
    {
     "name": "stdout",
     "output_type": "stream",
     "text": [
      "never talk to me again 😞\n"
     ]
    }
   ],
   "source": [
    "index = 0\n",
    "print(X_train[index], label_to_emoji(Y_train[index]))"
   ]
  },
  {
   "cell_type": "markdown",
   "metadata": {
    "deletable": true,
    "editable": true
   },
   "source": [
    "We will use pretrained 50-dimensional GloVe embeddings. The following cell loads the `word_to_vec_map`, which contains all the vector representations."
   ]
  },
  {
   "cell_type": "code",
   "execution_count": 10,
   "metadata": {
    "collapsed": true,
    "deletable": true,
    "editable": true
   },
   "outputs": [],
   "source": [
    "word_to_index, index_to_word, word_to_vec_map = read_glove_vecs('data/glove.6B.50d.txt')"
   ]
  },
  {
   "cell_type": "code",
   "execution_count": 11,
   "metadata": {
    "collapsed": false,
    "deletable": true,
    "editable": true
   },
   "outputs": [
    {
     "name": "stdout",
     "output_type": "stream",
     "text": [
      "length of word_to_index 400000\n",
      "length of index_to_word 400000\n",
      "length of word_to_vec_map 400000\n"
     ]
    }
   ],
   "source": [
    "print('length of word_to_index',len(word_to_index))\n",
    "print('length of index_to_word',len(index_to_word))\n",
    "print('length of word_to_vec_map',len(word_to_vec_map))"
   ]
  },
  {
   "cell_type": "markdown",
   "metadata": {
    "deletable": true,
    "editable": true
   },
   "source": [
    "- `word_to_index`: dictionary mapping from words to their indices in the vocabulary (400,001 words, with the valid indices ranging from 0 to 400,000)\n",
    "- `index_to_word`: dictionary mapping from indices to their corresponding words in the vocabulary\n",
    "- `word_to_vec_map`: dictionary mapping words to their GloVe vector representation.\n"
   ]
  },
  {
   "cell_type": "code",
   "execution_count": 12,
   "metadata": {
    "collapsed": false,
    "deletable": true,
    "editable": true
   },
   "outputs": [
    {
     "name": "stdout",
     "output_type": "stream",
     "text": [
      "the index of cucumber in the vocabulary is 113317\n",
      "the 289846th word in the vocabulary is potatos\n"
     ]
    }
   ],
   "source": [
    "word = \"cucumber\"\n",
    "index = 289846\n",
    "print(\"the index of\", word, \"in the vocabulary is\", word_to_index[word])\n",
    "print(\"the\", str(index) + \"th word in the vocabulary is\", index_to_word[index])"
   ]
  },
  {
   "cell_type": "code",
   "execution_count": 13,
   "metadata": {
    "collapsed": false,
    "deletable": true,
    "editable": true
   },
   "outputs": [
    {
     "data": {
      "text/plain": [
       "array([ 0.68224 , -0.31608 , -0.95201 ,  0.47108 ,  0.56571 ,  0.13151 ,\n",
       "        0.22457 ,  0.094995, -1.3237  , -0.51545 , -0.39337 ,  0.88488 ,\n",
       "        0.93826 ,  0.22931 ,  0.088624, -0.53908 ,  0.23396 ,  0.73245 ,\n",
       "       -0.019123, -0.26552 , -0.40433 , -1.5832  ,  1.1316  ,  0.4419  ,\n",
       "       -0.48218 ,  0.4828  ,  0.14938 ,  1.1245  ,  1.0159  , -0.50213 ,\n",
       "        0.83831 , -0.31303 ,  0.083242,  1.7161  ,  0.15024 ,  1.0324  ,\n",
       "       -1.5005  ,  0.62348 ,  0.54508 , -0.88484 ,  0.53279 , -0.085119,\n",
       "        0.02141 , -0.56629 ,  1.1463  ,  0.6464  ,  0.78318 , -0.067662,\n",
       "        0.22884 , -0.042453])"
      ]
     },
     "execution_count": 13,
     "metadata": {},
     "output_type": "execute_result"
    }
   ],
   "source": [
    "word_to_vec_map['cucumber']"
   ]
  },
  {
   "cell_type": "markdown",
   "metadata": {
    "deletable": true,
    "editable": true
   },
   "source": [
    "We convert an array of sentences (strings) into an array of indices corresponding to words in the sentences.\n",
    "\n",
    "Arguments:\n",
    "\n",
    "X -- array of sentences (strings), of shape (m, 1)\n",
    "\n",
    "word_to_index -- a dictionary containing the each word mapped to its index\n",
    "\n",
    "max_len -- maximum number of words in a sentence. You can assume every sentence in X is no longer than this. \n",
    "    \n",
    "Returns:\n",
    "\n",
    "X_indices -- array of indices corresponding to words in the sentences from X, of shape (m, max_len)"
   ]
  },
  {
   "cell_type": "code",
   "execution_count": 14,
   "metadata": {
    "collapsed": true,
    "deletable": true,
    "editable": true
   },
   "outputs": [],
   "source": [
    "def sentences_to_indices(X, word_to_index, max_len):\n",
    "\n",
    "    #The output shape should be such that it can be given to `Embedding()` (described in Figure 4). \n",
    "    \n",
    "    m = X.shape[0] # number of training examples\n",
    "    X_indices = np.zeros((m,max_len))\n",
    "    \n",
    "    for i in range(m):  # loop over training examples\n",
    "        \n",
    "        # Convert the ith training sentence in lower case and split is into words. You should get a list of words.\n",
    "        sentence_words =X[i].lower().split()\n",
    "        \n",
    "        j = 0\n",
    "        \n",
    "        # Loop over the words of sentence_words\n",
    "        for w in sentence_words:\n",
    "            # Set the (i,j)th entry of X_indices to the index of the correct word.\n",
    "            X_indices[i, j] = word_to_index[w]\n",
    "            j = j+1\n",
    "                \n",
    "    return X_indices"
   ]
  },
  {
   "cell_type": "code",
   "execution_count": 15,
   "metadata": {
    "collapsed": true,
    "deletable": true,
    "editable": true
   },
   "outputs": [],
   "source": [
    "def get_batches(x, y, batch_size):\n",
    "    for start_i in range(0, len(x), batch_size):\n",
    "        end_i = start_i + batch_size\n",
    "        yield x[start_i:end_i], y[start_i:end_i]"
   ]
  },
  {
   "cell_type": "code",
   "execution_count": 16,
   "metadata": {
    "collapsed": true,
    "deletable": true,
    "editable": true
   },
   "outputs": [],
   "source": [
    "def build_inputs():\n",
    "    \n",
    "    inputs_ = tf.placeholder(tf.int32,[None,None],name='inputs_')\n",
    "    labels_ = tf.placeholder(tf.int32,[None,None],name='labels_')\n",
    "    keep_prob = tf.placeholder(tf.float32, name='keep_prob')\n",
    "    \n",
    "    return inputs_, labels_, keep_prob "
   ]
  },
  {
   "cell_type": "code",
   "execution_count": 17,
   "metadata": {
    "collapsed": true,
    "deletable": true,
    "editable": true
   },
   "outputs": [],
   "source": [
    "def build_embedding_matrix(vocab_len,embedding_dim):\n",
    "    \n",
    "    # Initialize the embedding matrix as a numpy array of zeros of shape (vocab_len, dimensions of word vectors = emb_dim)\n",
    "    emb_matrix = np.zeros((vocab_len,embedding_dim))\n",
    "    \n",
    "    # Set each row \"index\" of the embedding matrix to be the word vector representation of the \"index\"th word of the vocabulary\n",
    "    for word, index in word_to_index.items():\n",
    "        emb_matrix[index, :] = word_to_vec_map[word]\n",
    "        \n",
    "    return emb_matrix"
   ]
  },
  {
   "cell_type": "code",
   "execution_count": 18,
   "metadata": {
    "collapsed": true,
    "deletable": true,
    "editable": true
   },
   "outputs": [],
   "source": [
    "def build_embedding_layer(vocab_len,embedding_dim,inputs_):\n",
    "    \n",
    "    W = tf.Variable(tf.constant(0.0, shape=[vocab_len, embedding_dim]),\n",
    "                trainable=False, name=\"W\")\n",
    "\n",
    "    embedding_placeholder = tf.placeholder(tf.float32, [vocab_len, embedding_dim])\n",
    "    embedding_init = W.assign(embedding_placeholder)\n",
    "    embed = tf.nn.embedding_lookup(W,inputs_)\n",
    "    \n",
    "    return embed, embedding_init, embedding_placeholder"
   ]
  },
  {
   "cell_type": "code",
   "execution_count": 19,
   "metadata": {
    "collapsed": true,
    "deletable": true,
    "editable": true
   },
   "outputs": [],
   "source": [
    "def build_lstm(lstm_size, lstm_layers, batch_size, keep_prob):\n",
    "    \n",
    "    # Your basic LSTM cell\n",
    "    lstm = tf.contrib.rnn.BasicLSTMCell(lstm_size) \n",
    "    \n",
    "    # Add dropout to the cell\n",
    "    drop = tf.contrib.rnn.DropoutWrapper(lstm, output_keep_prob=keep_prob)\n",
    "    \n",
    "    # Stack up multiple LSTM layers, for deep learning\n",
    "    cell = tf.contrib.rnn.MultiRNNCell([drop for _ in range(lstm_layers)])\n",
    "    \n",
    "    # Getting an initial state of all zeros\n",
    "    initial_state = cell.zero_state(batch_size, tf.float32)\n",
    "\n",
    "    return cell, initial_state"
   ]
  },
  {
   "cell_type": "code",
   "execution_count": 20,
   "metadata": {
    "collapsed": true,
    "deletable": true,
    "editable": true
   },
   "outputs": [],
   "source": [
    "def build_output(lstm_output, in_size, out_size):\n",
    "    \n",
    "    x = lstm_output[:, -1]\n",
    "    \n",
    "    # Connect the LSTM outputs to a softmax layer\n",
    "    with tf.variable_scope('softmax'):\n",
    "        # Create the weight and bias variables here\n",
    "        softmax_w = tf.Variable(tf.truncated_normal([in_size, out_size]))\n",
    "        softmax_b = tf.Variable(tf.zeros(out_size))\n",
    "        # out_size should be 5 because we have 5 emojis, i.e. 5 classes\n",
    "    \n",
    "    logits = tf.add(tf.matmul(x,softmax_w),softmax_b)\n",
    "    \n",
    "    # Use softmax to get the probabilities for predicted characters\n",
    "    predictions = tf.nn.softmax(logits)\n",
    "    \n",
    "    return predictions, logits"
   ]
  },
  {
   "cell_type": "code",
   "execution_count": 21,
   "metadata": {
    "collapsed": true,
    "deletable": true,
    "editable": true
   },
   "outputs": [],
   "source": [
    "def build_loss_and_accuracy(predictions, logits, targets, num_classes):\n",
    "        \n",
    "    y_one_hot = tf.one_hot(targets, depth=num_classes)\n",
    "    y_reshaped = tf.reshape(y_one_hot,[-1,num_classes])\n",
    "    \n",
    "    # Softmax cross entropy loss\n",
    "    loss = tf.reduce_mean(tf.nn.softmax_cross_entropy_with_logits(logits=logits, labels=y_reshaped))\n",
    "    \n",
    "    # accuracy version 1\n",
    "    # correct_pred = tf.equal(tf.argmax(predictions,1), tf.argmax(y_reshaped,1))\n",
    "    # accuracy = tf.reduce_mean(tf.cast(correct_pred, tf.float32))\n",
    "        \n",
    "    # accuracy version 2    \n",
    "    acc, acc_op = tf.metrics.accuracy(labels=tf.argmax(y_reshaped, 1), \n",
    "                                  predictions=tf.argmax(logits,1))\n",
    "    \n",
    "    return loss, acc, acc_op"
   ]
  },
  {
   "cell_type": "code",
   "execution_count": 22,
   "metadata": {
    "collapsed": true,
    "deletable": true,
    "editable": true
   },
   "outputs": [],
   "source": [
    "def build_optimizer(loss, learning_rate):\n",
    "    \n",
    "    optimizer = tf.train.AdamOptimizer(learning_rate).minimize(loss)\n",
    "    \n",
    "    return optimizer"
   ]
  },
  {
   "cell_type": "code",
   "execution_count": 23,
   "metadata": {
    "collapsed": true,
    "deletable": true,
    "editable": true
   },
   "outputs": [],
   "source": [
    "class emoji_model:\n",
    "    \n",
    "    def __init__(self, num_classes, num_steps,\n",
    "                       lstm_size, lstm_layers, learning_rate):\n",
    "    \n",
    "        tf.reset_default_graph()\n",
    "        \n",
    "        # Build the input placeholder tensors\n",
    "        self.inputs_, self.labels_, self.keep_prob = build_inputs()\n",
    "        \n",
    "        self.batch_size_var= tf.shape(self.inputs_)[0]\n",
    "        \n",
    "        # Build the LSTM cell\n",
    "        self.cell, self.initial_state = build_lstm(lstm_size, lstm_layers, self.batch_size_var, self.keep_prob)\n",
    "        \n",
    "        #build pretrained embedding matrix\n",
    "        self.emb_matrix = build_embedding_matrix(vocab_len,embedding_dim)\n",
    "        \n",
    "        #build embedding layer\n",
    "        self.embed, self.embedding_init, self.embedding_placeholder = build_embedding_layer(vocab_len,embedding_dim,self.inputs_)\n",
    "        \n",
    "        ### Run the data through the RNN layers\n",
    "               \n",
    "        # Run each sequence step through the RNN with tf.nn.dynamic_rnn \n",
    "        self.lstm_output, state = tf.nn.dynamic_rnn(self.cell, self.embed, initial_state=self.initial_state)\n",
    "        \n",
    "        self.final_state = state\n",
    "\n",
    "        # Get softmax predictions and logits\n",
    "        self.predictions, self.logits = build_output(self.lstm_output, lstm_size, num_classes)\n",
    "           \n",
    "        # Loss and optimizer\n",
    "        self.loss, self.acc, self.acc_op = build_loss_and_accuracy(self.predictions, self.logits, self.labels_, num_classes)\n",
    "        self.optimizer = build_optimizer(self.loss, learning_rate)"
   ]
  },
  {
   "cell_type": "code",
   "execution_count": 24,
   "metadata": {
    "collapsed": true,
    "deletable": true,
    "editable": true
   },
   "outputs": [],
   "source": [
    "lstm_size = 128\n",
    "lstm_layers = 2\n",
    "batch_size = 32\n",
    "learning_rate = 0.01\n",
    "num_classes=5\n",
    "vocab_len = len(word_to_index)+1           \n",
    "embedding_dim = word_to_vec_map[\"cucumber\"].shape[0]      # define dimensionality of your GloVe word vectors (= 50)"
   ]
  },
  {
   "cell_type": "code",
   "execution_count": 25,
   "metadata": {
    "collapsed": true,
    "deletable": true,
    "editable": true
   },
   "outputs": [],
   "source": [
    "X_train_indices = sentences_to_indices(X_train, word_to_index, maxLen)\n",
    "X_test_indices = sentences_to_indices(X_test, word_to_index, maxLen)"
   ]
  },
  {
   "cell_type": "code",
   "execution_count": 26,
   "metadata": {
    "collapsed": false,
    "deletable": true,
    "editable": true
   },
   "outputs": [
    {
     "name": "stdout",
     "output_type": "stream",
     "text": [
      "Epoch: 1/150 Train loss (mean): 2.9738 Train accuracy (mean): 0.3048\n",
      "Epoch: 2/150 Train loss (mean): 1.6501 Train accuracy (mean): 0.3654\n",
      "Epoch: 3/150 Train loss (mean): 1.0088 Train accuracy (mean): 0.4193\n",
      "Epoch: 4/150 Train loss (mean): 1.0922 Train accuracy (mean): 0.4543\n",
      "Epoch: 5/150 Train loss (mean): 1.0441 Train accuracy (mean): 0.4840\n",
      "Epoch: 6/150 Train loss (mean): 0.6809 Train accuracy (mean): 0.5249\n",
      "Epoch: 7/150 Train loss (mean): 0.5031 Train accuracy (mean): 0.5553\n",
      "Epoch: 8/150 Train loss (mean): 0.3319 Train accuracy (mean): 0.5899\n",
      "Epoch: 9/150 Train loss (mean): 0.2832 Train accuracy (mean): 0.6225\n",
      "Epoch: 10/150 Train loss (mean): 0.2946 Train accuracy (mean): 0.6512\n",
      "Epoch: 11/150 Train loss (mean): 0.3049 Train accuracy (mean): 0.6764\n",
      "Epoch: 12/150 Train loss (mean): 0.5154 Train accuracy (mean): 0.6940\n",
      "Epoch: 13/150 Train loss (mean): 0.7670 Train accuracy (mean): 0.7056\n",
      "Epoch: 14/150 Train loss (mean): 0.5911 Train accuracy (mean): 0.7140\n",
      "Epoch: 15/150 Train loss (mean): 0.4625 Train accuracy (mean): 0.7193\n",
      "Epoch: 16/150 Train loss (mean): 0.2900 Train accuracy (mean): 0.7282\n",
      "Epoch: 17/150 Train loss (mean): 0.1963 Train accuracy (mean): 0.7384\n",
      "Epoch: 18/150 Train loss (mean): 0.1683 Train accuracy (mean): 0.7494\n",
      "Epoch: 19/150 Train loss (mean): 0.1049 Train accuracy (mean): 0.7610\n",
      "Epoch: 20/150 Train loss (mean): 0.1260 Train accuracy (mean): 0.7715\n",
      "Epoch: 21/150 Train loss (mean): 0.1602 Train accuracy (mean): 0.7799\n",
      "Epoch: 22/150 Train loss (mean): 0.1170 Train accuracy (mean): 0.7878\n",
      "Epoch: 23/150 Train loss (mean): 0.1742 Train accuracy (mean): 0.7934\n",
      "Epoch: 24/150 Train loss (mean): 0.1469 Train accuracy (mean): 0.7990\n",
      "Epoch: 25/150 Train loss (mean): 0.1132 Train accuracy (mean): 0.8059\n",
      "Epoch: 26/150 Train loss (mean): 0.0488 Train accuracy (mean): 0.8127\n",
      "Epoch: 27/150 Train loss (mean): 0.0369 Train accuracy (mean): 0.8189\n",
      "Epoch: 28/150 Train loss (mean): 0.0198 Train accuracy (mean): 0.8252\n",
      "Epoch: 29/150 Train loss (mean): 0.0206 Train accuracy (mean): 0.8310\n",
      "Epoch: 30/150 Train loss (mean): 0.0200 Train accuracy (mean): 0.8364\n",
      "Epoch: 31/150 Train loss (mean): 0.0437 Train accuracy (mean): 0.8411\n",
      "Epoch: 32/150 Train loss (mean): 0.6944 Train accuracy (mean): 0.8453\n",
      "Epoch: 33/150 Train loss (mean): 0.3381 Train accuracy (mean): 0.8473\n",
      "Epoch: 34/150 Train loss (mean): 0.3785 Train accuracy (mean): 0.8481\n",
      "Epoch: 35/150 Train loss (mean): 0.2397 Train accuracy (mean): 0.8498\n",
      "Epoch: 36/150 Train loss (mean): 0.5287 Train accuracy (mean): 0.8514\n",
      "Epoch: 37/150 Train loss (mean): 0.1768 Train accuracy (mean): 0.8531\n",
      "Epoch: 38/150 Train loss (mean): 0.1582 Train accuracy (mean): 0.8554\n",
      "Epoch: 39/150 Train loss (mean): 0.1124 Train accuracy (mean): 0.8578\n",
      "Epoch: 40/150 Train loss (mean): 0.1993 Train accuracy (mean): 0.8607\n",
      "Epoch: 41/150 Train loss (mean): 0.1827 Train accuracy (mean): 0.8632\n",
      "Epoch: 42/150 Train loss (mean): 0.0697 Train accuracy (mean): 0.8663\n",
      "Epoch: 43/150 Train loss (mean): 0.0860 Train accuracy (mean): 0.8684\n",
      "Epoch: 44/150 Train loss (mean): 0.0287 Train accuracy (mean): 0.8708\n",
      "Epoch: 45/150 Train loss (mean): 0.0309 Train accuracy (mean): 0.8735\n",
      "Epoch: 46/150 Train loss (mean): 0.0153 Train accuracy (mean): 0.8763\n",
      "Epoch: 47/150 Train loss (mean): 0.0049 Train accuracy (mean): 0.8789\n",
      "Epoch: 48/150 Train loss (mean): 0.0202 Train accuracy (mean): 0.8813\n",
      "Epoch: 49/150 Train loss (mean): 0.0745 Train accuracy (mean): 0.8834\n",
      "Epoch: 50/150 Train loss (mean): 0.1155 Train accuracy (mean): 0.8855\n",
      "Epoch: 51/150 Train loss (mean): 0.2715 Train accuracy (mean): 0.8870\n",
      "Epoch: 52/150 Train loss (mean): 0.5788 Train accuracy (mean): 0.8883\n",
      "Epoch: 53/150 Train loss (mean): 0.8332 Train accuracy (mean): 0.8884\n",
      "Epoch: 54/150 Train loss (mean): 0.2984 Train accuracy (mean): 0.8883\n",
      "Epoch: 55/150 Train loss (mean): 0.2814 Train accuracy (mean): 0.8879\n",
      "Epoch: 56/150 Train loss (mean): 0.0756 Train accuracy (mean): 0.8892\n",
      "Epoch: 57/150 Train loss (mean): 0.0647 Train accuracy (mean): 0.8905\n",
      "Epoch: 58/150 Train loss (mean): 0.0201 Train accuracy (mean): 0.8923\n",
      "Epoch: 59/150 Train loss (mean): 0.0092 Train accuracy (mean): 0.8941\n",
      "Epoch: 60/150 Train loss (mean): 0.0059 Train accuracy (mean): 0.8959\n",
      "Epoch: 61/150 Train loss (mean): 0.0036 Train accuracy (mean): 0.8976\n",
      "Epoch: 62/150 Train loss (mean): 0.0062 Train accuracy (mean): 0.8993\n",
      "Epoch: 63/150 Train loss (mean): 0.0044 Train accuracy (mean): 0.9009\n",
      "Epoch: 64/150 Train loss (mean): 0.0034 Train accuracy (mean): 0.9025\n",
      "Epoch: 65/150 Train loss (mean): 0.0019 Train accuracy (mean): 0.9040\n",
      "Epoch: 66/150 Train loss (mean): 0.0020 Train accuracy (mean): 0.9054\n",
      "Epoch: 67/150 Train loss (mean): 0.0022 Train accuracy (mean): 0.9068\n",
      "Epoch: 68/150 Train loss (mean): 0.0040 Train accuracy (mean): 0.9082\n",
      "Epoch: 69/150 Train loss (mean): 0.0096 Train accuracy (mean): 0.9096\n",
      "Epoch: 70/150 Train loss (mean): 0.0013 Train accuracy (mean): 0.9109\n",
      "Epoch: 71/150 Train loss (mean): 0.0021 Train accuracy (mean): 0.9121\n",
      "Epoch: 72/150 Train loss (mean): 0.0014 Train accuracy (mean): 0.9133\n",
      "Epoch: 73/150 Train loss (mean): 0.0004 Train accuracy (mean): 0.9145\n",
      "Epoch: 74/150 Train loss (mean): 0.0016 Train accuracy (mean): 0.9157\n",
      "Epoch: 75/150 Train loss (mean): 0.0009 Train accuracy (mean): 0.9168\n",
      "Epoch: 76/150 Train loss (mean): 0.0015 Train accuracy (mean): 0.9179\n",
      "Epoch: 77/150 Train loss (mean): 0.0007 Train accuracy (mean): 0.9190\n",
      "Epoch: 78/150 Train loss (mean): 0.0005 Train accuracy (mean): 0.9200\n",
      "Epoch: 79/150 Train loss (mean): 0.0008 Train accuracy (mean): 0.9210\n",
      "Epoch: 80/150 Train loss (mean): 0.0008 Train accuracy (mean): 0.9220\n",
      "Epoch: 81/150 Train loss (mean): 0.0003 Train accuracy (mean): 0.9230\n",
      "Epoch: 82/150 Train loss (mean): 0.0004 Train accuracy (mean): 0.9239\n",
      "Epoch: 83/150 Train loss (mean): 0.0004 Train accuracy (mean): 0.9249\n",
      "Epoch: 84/150 Train loss (mean): 0.0014 Train accuracy (mean): 0.9258\n",
      "Epoch: 85/150 Train loss (mean): 0.0005 Train accuracy (mean): 0.9266\n",
      "Epoch: 86/150 Train loss (mean): 0.0006 Train accuracy (mean): 0.9275\n",
      "Epoch: 87/150 Train loss (mean): 0.0003 Train accuracy (mean): 0.9283\n",
      "Epoch: 88/150 Train loss (mean): 0.0005 Train accuracy (mean): 0.9292\n",
      "Epoch: 89/150 Train loss (mean): 0.0005 Train accuracy (mean): 0.9300\n",
      "Epoch: 90/150 Train loss (mean): 0.0010 Train accuracy (mean): 0.9307\n",
      "Epoch: 91/150 Train loss (mean): 0.0003 Train accuracy (mean): 0.9315\n",
      "Epoch: 92/150 Train loss (mean): 0.0092 Train accuracy (mean): 0.9322\n",
      "Epoch: 93/150 Train loss (mean): 0.0062 Train accuracy (mean): 0.9329\n",
      "Epoch: 94/150 Train loss (mean): 0.0005 Train accuracy (mean): 0.9335\n",
      "Epoch: 95/150 Train loss (mean): 0.0005 Train accuracy (mean): 0.9342\n",
      "Epoch: 96/150 Train loss (mean): 0.0001 Train accuracy (mean): 0.9349\n",
      "Epoch: 97/150 Train loss (mean): 0.0007 Train accuracy (mean): 0.9356\n",
      "Epoch: 98/150 Train loss (mean): 0.0011 Train accuracy (mean): 0.9363\n",
      "Epoch: 99/150 Train loss (mean): 0.0003 Train accuracy (mean): 0.9369\n",
      "Epoch: 100/150 Train loss (mean): 0.0017 Train accuracy (mean): 0.9375\n",
      "Epoch: 101/150 Train loss (mean): 0.0005 Train accuracy (mean): 0.9382\n",
      "Epoch: 102/150 Train loss (mean): 0.0018 Train accuracy (mean): 0.9388\n",
      "Epoch: 103/150 Train loss (mean): 0.0008 Train accuracy (mean): 0.9394\n",
      "Epoch: 104/150 Train loss (mean): 0.0003 Train accuracy (mean): 0.9399\n",
      "Epoch: 105/150 Train loss (mean): 0.0003 Train accuracy (mean): 0.9405\n",
      "Epoch: 106/150 Train loss (mean): 0.0003 Train accuracy (mean): 0.9411\n",
      "Epoch: 107/150 Train loss (mean): 0.0002 Train accuracy (mean): 0.9416\n",
      "Epoch: 108/150 Train loss (mean): 0.0003 Train accuracy (mean): 0.9422\n",
      "Epoch: 109/150 Train loss (mean): 0.0003 Train accuracy (mean): 0.9427\n",
      "Epoch: 110/150 Train loss (mean): 0.0004 Train accuracy (mean): 0.9432\n",
      "Epoch: 111/150 Train loss (mean): 0.0006 Train accuracy (mean): 0.9437\n",
      "Epoch: 112/150 Train loss (mean): 0.0003 Train accuracy (mean): 0.9442\n",
      "Epoch: 113/150 Train loss (mean): 0.0010 Train accuracy (mean): 0.9447\n",
      "Epoch: 114/150 Train loss (mean): 0.0006 Train accuracy (mean): 0.9452\n",
      "Epoch: 115/150 Train loss (mean): 0.0001 Train accuracy (mean): 0.9457\n",
      "Epoch: 116/150 Train loss (mean): 0.0003 Train accuracy (mean): 0.9462\n",
      "Epoch: 117/150 Train loss (mean): 0.0001 Train accuracy (mean): 0.9466\n",
      "Epoch: 118/150 Train loss (mean): 0.0002 Train accuracy (mean): 0.9471\n",
      "Epoch: 119/150 Train loss (mean): 0.0008 Train accuracy (mean): 0.9475\n",
      "Epoch: 120/150 Train loss (mean): 0.0002 Train accuracy (mean): 0.9480\n",
      "Epoch: 121/150 Train loss (mean): 0.0005 Train accuracy (mean): 0.9484\n",
      "Epoch: 122/150 Train loss (mean): 0.0002 Train accuracy (mean): 0.9488\n",
      "Epoch: 123/150 Train loss (mean): 0.0001 Train accuracy (mean): 0.9492\n",
      "Epoch: 124/150 Train loss (mean): 0.0001 Train accuracy (mean): 0.9497\n",
      "Epoch: 125/150 Train loss (mean): 0.0006 Train accuracy (mean): 0.9501\n",
      "Epoch: 126/150 Train loss (mean): 0.0002 Train accuracy (mean): 0.9505\n",
      "Epoch: 127/150 Train loss (mean): 0.0002 Train accuracy (mean): 0.9508\n",
      "Epoch: 128/150 Train loss (mean): 0.0005 Train accuracy (mean): 0.9512\n",
      "Epoch: 129/150 Train loss (mean): 0.0002 Train accuracy (mean): 0.9516\n",
      "Epoch: 130/150 Train loss (mean): 0.0007 Train accuracy (mean): 0.9520\n",
      "Epoch: 131/150 Train loss (mean): 0.0001 Train accuracy (mean): 0.9523\n",
      "Epoch: 132/150 Train loss (mean): 0.0002 Train accuracy (mean): 0.9527\n",
      "Epoch: 133/150 Train loss (mean): 0.0004 Train accuracy (mean): 0.9531\n",
      "Epoch: 134/150 Train loss (mean): 0.0002 Train accuracy (mean): 0.9534\n",
      "Epoch: 135/150 Train loss (mean): 0.0002 Train accuracy (mean): 0.9538\n",
      "Epoch: 136/150 Train loss (mean): 0.0001 Train accuracy (mean): 0.9541\n",
      "Epoch: 137/150 Train loss (mean): 0.0003 Train accuracy (mean): 0.9544\n",
      "Epoch: 138/150 Train loss (mean): 0.0004 Train accuracy (mean): 0.9548\n",
      "Epoch: 139/150 Train loss (mean): 0.0000 Train accuracy (mean): 0.9551\n",
      "Epoch: 140/150 Train loss (mean): 0.0001 Train accuracy (mean): 0.9554\n",
      "Epoch: 141/150 Train loss (mean): 0.0003 Train accuracy (mean): 0.9557\n",
      "Epoch: 142/150 Train loss (mean): 0.0001 Train accuracy (mean): 0.9560\n",
      "Epoch: 143/150 Train loss (mean): 0.0004 Train accuracy (mean): 0.9564\n",
      "Epoch: 144/150 Train loss (mean): 0.0001 Train accuracy (mean): 0.9567\n",
      "Epoch: 145/150 Train loss (mean): 0.0003 Train accuracy (mean): 0.9570\n",
      "Epoch: 146/150 Train loss (mean): 0.0001 Train accuracy (mean): 0.9573\n",
      "Epoch: 147/150 Train loss (mean): 0.0001 Train accuracy (mean): 0.9575\n",
      "Epoch: 148/150 Train loss (mean): 0.0001 Train accuracy (mean): 0.9578\n",
      "Epoch: 149/150 Train loss (mean): 0.0001 Train accuracy (mean): 0.9581\n",
      "Epoch: 150/150 Train loss (mean): 0.0001 Train accuracy (mean): 0.9584\n"
     ]
    }
   ],
   "source": [
    "epochs = 150\n",
    "\n",
    "model = emoji_model(num_classes=num_classes, num_steps=maxLen,\n",
    "                lstm_size=lstm_size, lstm_layers=lstm_layers, learning_rate=learning_rate)\n",
    "\n",
    "saver = tf.train.Saver() \n",
    "\n",
    "train_acc_mean = []\n",
    "loss_vec = []\n",
    "with tf.Session() as sess:\n",
    "    sess.run(tf.local_variables_initializer())\n",
    "    sess.run(tf.global_variables_initializer())\n",
    "    sess.run(model.embedding_init, feed_dict={model.embedding_placeholder: model.emb_matrix})\n",
    "    \n",
    "    global_iteration = 0\n",
    "    for e in range(epochs):\n",
    "        train_acc = []\n",
    "        loss_epoch=[]\n",
    "        \n",
    "        num_iterations=int(np.ceil(len(X_train_indices)/batch_size))\n",
    "        index_last_iter=int(((len(X_train_indices)/batch_size)-(len(X_train_indices)//batch_size))*batch_size)\n",
    "        iteration=1\n",
    "        for (x, y) in get_batches(X_train_indices, Y_train, batch_size):\n",
    "                   \n",
    "            if (iteration==1):\n",
    "                feed = {model.inputs_: x}\n",
    "                state = sess.run(model.initial_state,feed_dict=feed)\n",
    "                \n",
    "                feed = {model.inputs_: x,\n",
    "                   model.labels_: y[:, None],\n",
    "                   model.keep_prob: 0.5,\n",
    "                   model.initial_state: state}\n",
    "              \n",
    "            elif (iteration==num_iterations): # We include the last batch that is not complete\n",
    "                new_state=()\n",
    "                for lstm_layers_index in range(0, lstm_layers):\n",
    "                    c=state[lstm_layers_index][0][0:index_last_iter]\n",
    "                    h=state[lstm_layers_index][1][0:index_last_iter]\n",
    "                    ch = tf.contrib.rnn.LSTMStateTuple(c, h)  \n",
    "                    new_state=new_state+(ch,)\n",
    "                    #new_state=new_state+ch # I think this is wrong, but seems to work too\n",
    "                    \n",
    "                feed = {model.inputs_: x,\n",
    "                   model.labels_: y[:, None],\n",
    "                   model.keep_prob: 0.5,\n",
    "                   model.initial_state: new_state}\n",
    "    \n",
    "            else:\n",
    "                feed = {model.inputs_: x,\n",
    "                   model.labels_: y[:, None],\n",
    "                   model.keep_prob: 0.5,\n",
    "                   model.initial_state: state}\n",
    "                   \n",
    "\n",
    "            batch_acc,batch_acc_op,batch_loss, state,_= sess.run([model.acc, model.acc_op,\n",
    "                                                                    model.loss, model.final_state,\n",
    "                                                                    model.optimizer],\n",
    "                                                                    feed_dict=feed)\n",
    "\n",
    "            train_acc.append(batch_acc_op)\n",
    "            loss_epoch.append(batch_loss)\n",
    "            loss_vec.append(batch_loss)\n",
    "            \n",
    "            iteration +=1\n",
    "            global_iteration +=1\n",
    "        \n",
    "        if (e%1==0):\n",
    "            print(\"Epoch: {}/{}\".format(e+1, epochs),\n",
    "                     \"Train loss (mean): {:.4f}\".format(np.mean(loss_epoch)),\n",
    "                      \"Train accuracy (mean): {:.4f}\".format(np.mean(train_acc)))\n",
    "        \n",
    "        train_acc_mean.append(np.mean(train_acc))\n",
    "    saver.save(sess, \"checkpoints/emojify.ckpt\")                   "
   ]
  },
  {
   "cell_type": "markdown",
   "metadata": {
    "deletable": true,
    "editable": true
   },
   "source": [
    "## Plot training loss and accuracy"
   ]
  },
  {
   "cell_type": "code",
   "execution_count": 27,
   "metadata": {
    "collapsed": false,
    "deletable": true,
    "editable": true
   },
   "outputs": [
    {
     "data": {
      "image/png": "[encoded data removed]",
      "text/plain": [
       "<matplotlib.figure.Figure at 0x12bd2a780>"
      ]
     },
     "metadata": {},
     "output_type": "display_data"
    }
   ],
   "source": [
    "plt.figure(figsize=(16,6))\n",
    "plt.subplot(1,2,1)\n",
    "plt.plot(np.arange(1,global_iteration+1), loss_vec)\n",
    "plt.ylabel('loss')\n",
    "plt.xlabel('iterations')\n",
    "\n",
    "plt.subplot(1,2,2)\n",
    "plt.plot(np.arange(1,epochs+1), train_acc_mean)\n",
    "plt.ylabel('mean accuracy per epoch')\n",
    "plt.xlabel('epochs')\n",
    "\n",
    "plt.show()"
   ]
  },
  {
   "cell_type": "markdown",
   "metadata": {},
   "source": [
    "## Testing"
   ]
  },
  {
   "cell_type": "code",
   "execution_count": 28,
   "metadata": {
    "collapsed": false,
    "deletable": true,
    "editable": true
   },
   "outputs": [
    {
     "name": "stdout",
     "output_type": "stream",
     "text": [
      "Iteration: 1 Test loss: 1.659 Test accuracy: 0.8750\n",
      "Iteration: 2 Test loss: 2.147 Test accuracy: 0.7857\n",
      "Test accuracy (mean): 0.830\n"
     ]
    }
   ],
   "source": [
    "test_accuracy = []\n",
    "test_predictions_val=[]\n",
    "with tf.Session() as sess:\n",
    "    saver.restore(sess, tf.train.latest_checkpoint('checkpoints'))\n",
    "    sess.run(tf.local_variables_initializer())\n",
    "    num_iterations=int(np.ceil(len(X_test_indices)/batch_size))\n",
    "    index_last_iter=int(((len(X_test_indices)/batch_size)-(len(X_test_indices)//batch_size))*batch_size)\n",
    "    \n",
    "    iteration=1\n",
    "    for (x, y) in get_batches(X_test_indices, Y_test, batch_size):\n",
    "                   \n",
    "        if (iteration==1):\n",
    "            feed = {model.inputs_: x}\n",
    "            test_state = sess.run(model.cell.zero_state(tf.shape(x)[0], tf.float32))    \n",
    "                \n",
    "            feed = {model.inputs_: x,\n",
    "                   model.labels_: y[:, None],\n",
    "                   model.keep_prob: 1,\n",
    "                   model.initial_state: test_state}\n",
    "              \n",
    "        elif (iteration==num_iterations):\n",
    "            new_state=()\n",
    "            for lstm_layers_index in range(0, lstm_layers):\n",
    "                c=test_state[lstm_layers_index][0][0:index_last_iter]\n",
    "                h=test_state[lstm_layers_index][1][0:index_last_iter]\n",
    "                ch = tf.contrib.rnn.LSTMStateTuple(c, h)  \n",
    "                new_state=new_state+(ch,)\n",
    "                \n",
    "                    \n",
    "            feed = {model.inputs_: x,\n",
    "                   model.labels_: y[:, None],\n",
    "                   model.keep_prob: 1,\n",
    "                   model.initial_state: new_state}\n",
    "    \n",
    "        else:\n",
    "            feed = {model.inputs_: x,\n",
    "                   model.labels_: y[:, None],\n",
    "                   model.keep_prob: 1,\n",
    "                   model.initial_state: test_state}\n",
    "            \n",
    "        test_predictions,test_loss, test_batch_acc,test_batch_acc_op, test_state = sess.run([model.predictions, \n",
    "                                                                                             model.loss,\n",
    "                                                                                   model.acc,model.acc_op, \n",
    "                                                                                   model.final_state], \n",
    "                                                                feed_dict=feed)\n",
    "        test_accuracy.append(test_batch_acc_op) \n",
    "        test_predictions_val.extend(np.argmax(test_predictions,1))\n",
    "        \n",
    "        print(\"Iteration: {}\".format(iteration),\n",
    "                      \"Test loss: {:.3f}\".format(test_loss),\n",
    "                      \"Test accuracy: {:.4f}\".format(test_batch_acc_op)\n",
    "                     )\n",
    "        iteration +=1\n",
    "        \n",
    "    print(\"Test accuracy (mean): {:.3f}\".format(np.mean(test_accuracy)))"
   ]
  },
  {
   "cell_type": "markdown",
   "metadata": {},
   "source": [
    "## Expected and predicted emoji of test set"
   ]
  },
  {
   "cell_type": "code",
   "execution_count": 29,
   "metadata": {
    "collapsed": false,
    "deletable": true,
    "editable": true
   },
   "outputs": [
    {
     "name": "stdout",
     "output_type": "stream",
     "text": [
      "Expected emoji:🍴 prediction: I want to eat\t🍴\n",
      "Expected emoji:😞 prediction: he did not answer\t😞\n",
      "Expected emoji:😄 prediction: he got a very nice raise\t😄\n",
      "Expected emoji:😄 prediction: she got me a nice present\t😄\n",
      "Expected emoji:😄 prediction: ha ha ha it was so funny\t😄\n",
      "Expected emoji:😄 prediction: he is a good friend\t😄\n",
      "Expected emoji:😞 prediction: I am upset\t😞\n",
      "Expected emoji:😄 prediction: We had such a lovely dinner tonight\t😄\n",
      "Expected emoji:🍴 prediction: where is the food\t🍴\n",
      "Expected emoji:😄 prediction: Stop making this joke ha ha ha\t😄\n",
      "Expected emoji:⚾ prediction: where is the ball\t⚾\n",
      "Expected emoji:😞 prediction: work is hard\t😞\n",
      "Expected emoji:😞 prediction: This girl is messing with me\t😞\n",
      "Expected emoji:😞 prediction: are you serious😞\n",
      "Expected emoji:⚾ prediction: Let us go play baseball\t⚾\n",
      "Expected emoji:😞 prediction: This stupid grader is not working \t😞\n",
      "Expected emoji:😞 prediction: work is horrible\t😞\n",
      "Expected emoji:😄 prediction: Congratulation for having a baby\t❤️\n",
      "Expected emoji:😞 prediction: stop pissing me off😞\n",
      "Expected emoji:🍴 prediction: any suggestions for dinner\t🍴\n",
      "Expected emoji:❤️ prediction: I love taking breaks\t❤️\n",
      "Expected emoji:😄 prediction: you brighten my day\t❤️\n",
      "Expected emoji:🍴 prediction: I boiled rice\t🍴\n",
      "Expected emoji:😞 prediction: she is a bully\t❤️\n",
      "Expected emoji:😞 prediction: Why are you feeling bad\t😞\n",
      "Expected emoji:😞 prediction: I am upset\t😞\n",
      "Expected emoji:⚾ prediction: give me the ball⚾\n",
      "Expected emoji:❤️ prediction: My grandmother is the love of my life\t😄\n",
      "Expected emoji:⚾ prediction: enjoy your game⚾\n",
      "Expected emoji:😄 prediction: valentine day is near\t😄\n",
      "Expected emoji:❤️ prediction: I miss you so much\t❤️\n",
      "Expected emoji:⚾ prediction: throw the ball\t⚾\n",
      "Expected emoji:😞 prediction: My life is so boring\t😞\n",
      "Expected emoji:😄 prediction: she said yes\t😄\n",
      "Expected emoji:😄 prediction: will you be my valentine\t🍴\n",
      "Expected emoji:⚾ prediction: he can pitch really well\t❤️\n",
      "Expected emoji:😄 prediction: dance with me\t😞\n",
      "Expected emoji:🍴 prediction: I am hungry🍴\n",
      "Expected emoji:🍴 prediction: See you at the restaurant\t🍴\n",
      "Expected emoji:😄 prediction: I like to laugh\t😄\n",
      "Expected emoji:⚾ prediction: I will  run😄\n",
      "Expected emoji:❤️ prediction: I like your jacket \t❤️\n",
      "Expected emoji:❤️ prediction: i miss her\t❤️\n",
      "Expected emoji:⚾ prediction: what is your favorite baseball game\t⚾\n",
      "Expected emoji:😄 prediction: Good job\t😄\n",
      "Expected emoji:❤️ prediction: I love you to the stars and back\t😄\n",
      "Expected emoji:😄 prediction: What you did was awesome\t😄\n",
      "Expected emoji:😄 prediction: ha ha ha lol\t😄\n",
      "Expected emoji:😞 prediction: I do not want to joke\t😄\n",
      "Expected emoji:😞 prediction: go away\t😞\n",
      "Expected emoji:😞 prediction: yesterday we lost again\t😄\n",
      "Expected emoji:❤️ prediction: family is all I have\t😞\n",
      "Expected emoji:😞 prediction: you are failing this exercise\t😞\n",
      "Expected emoji:😄 prediction: Good joke\t😄\n",
      "Expected emoji:😄 prediction: You deserve this nice prize\t😄\n",
      "Expected emoji:🍴 prediction: I did not have breakfast 🍴\n"
     ]
    }
   ],
   "source": [
    "for i in range(len(X_test)):\n",
    "    print('Expected emoji:'+ label_to_emoji(Y_test[i]) + ' prediction: '+ X_test[i] \n",
    "          + label_to_emoji(test_predictions_val[i]).strip())"
   ]
  },
  {
   "cell_type": "code",
   "execution_count": null,
   "metadata": {
    "collapsed": true
   },
   "outputs": [],
   "source": []
  }
 ],
 "metadata": {
  "coursera": {
   "course_slug": "nlp-sequence-models",
   "graded_item_id": "RNnEs",
   "launcher_item_id": "acNYU"
  },
  "kernelspec": {
   "display_name": "Python 3",
   "language": "python",
   "name": "python3"
  },
  "language_info": {
   "codemirror_mode": {
    "name": "ipython",
    "version": 3
   },
   "file_extension": ".py",
   "mimetype": "text/x-python",
   "name": "python",
   "nbconvert_exporter": "python",
   "pygments_lexer": "ipython3",
   "version": "3.5.3"
  }
 },
 "nbformat": 4,
 "nbformat_minor": 2
}
